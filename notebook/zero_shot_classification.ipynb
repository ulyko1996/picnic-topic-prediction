{
 "cells": [
  {
   "cell_type": "markdown",
   "id": "edca0f41",
   "metadata": {},
   "source": [
    "Another approach to this problem is zero-shot classification, which creates embeddings for input texts and find their closest matches from the pre-defined labels. It can potentially outperform ML models because it leverage language models pre-trained on a diverse and massive dataset. It also saves us time to engineer features but we can also use our data to fine-tune these models to potentially further improve its performance. This notebook is meant to demonstrate how it can work."
   ]
  },
  {
   "cell_type": "code",
   "execution_count": 1,
   "id": "dd7c1537",
   "metadata": {},
   "outputs": [],
   "source": [
    "# Install additional packages\n",
    "!pip install -q numpy==1.26.4 torch==2.2.0 transformers==4.57.1"
   ]
  },
  {
   "cell_type": "code",
   "execution_count": 2,
   "id": "78c24c88",
   "metadata": {},
   "outputs": [
    {
     "name": "stderr",
     "output_type": "stream",
     "text": [
      "/Users/ulysses/Documents/GitHub/picnic-topic-prediction/.venv/lib/python3.12/site-packages/tqdm/auto.py:21: TqdmWarning: IProgress not found. Please update jupyter and ipywidgets. See https://ipywidgets.readthedocs.io/en/stable/user_install.html\n",
      "  from .autonotebook import tqdm as notebook_tqdm\n",
      "/Users/ulysses/Documents/GitHub/picnic-topic-prediction/.venv/lib/python3.12/site-packages/optuna/distributions.py:518: UserWarning: Choices for a categorical distribution should be a tuple of None, bool, int, float and str for persistent storage but contains (1, 1) which is of type tuple.\n",
      "  warnings.warn(message)\n",
      "/Users/ulysses/Documents/GitHub/picnic-topic-prediction/.venv/lib/python3.12/site-packages/optuna/distributions.py:518: UserWarning: Choices for a categorical distribution should be a tuple of None, bool, int, float and str for persistent storage but contains (1, 2) which is of type tuple.\n",
      "  warnings.warn(message)\n"
     ]
    }
   ],
   "source": [
    "# Define zero shot classifier class\n",
    "from transformers import pipeline\n",
    "from picnic_topic_prediction.config import LABEL_MAPPING\n",
    "\n",
    "class ZeroShotClassifier:\n",
    "    def __init__(self):\n",
    "        self.pipeline = pipeline(task=\"zero-shot-classification\", model=\"sileod/deberta-v3-base-tasksource-nli\")\n",
    "\n",
    "    def predict(self, X):\n",
    "        output = self.pipeline(X, candidate_labels=[f\"{v} News\" for v in LABEL_MAPPING.values()], multi_label=False)\n",
    "        pred = [item['labels'][0] for item in output]\n",
    "        \n",
    "        reverse_map = {f\"{v} News\": k for k, v in LABEL_MAPPING.items()}\n",
    "        return [reverse_map[item] for item in pred]"
   ]
  },
  {
   "cell_type": "markdown",
   "id": "414507e3",
   "metadata": {},
   "source": [
    "To run this locally on CPU, I have picked a very small model (200M parameters) and we still achieve very decent performance without any need for tuning."
   ]
  },
  {
   "cell_type": "code",
   "execution_count": 3,
   "id": "846dd59d",
   "metadata": {},
   "outputs": [
    {
     "name": "stderr",
     "output_type": "stream",
     "text": [
      "Device set to use cpu\n",
      "Asking to truncate to max_length but no maximum length is provided and the model has no predefined maximum length. Default to no truncation.\n"
     ]
    },
    {
     "name": "stdout",
     "output_type": "stream",
     "text": [
      "0.84\n",
      "0.8274249943604781\n"
     ]
    }
   ],
   "source": [
    "from picnic_topic_prediction.utils import load_data\n",
    "from sklearn.metrics import accuracy_score, f1_score\n",
    "\n",
    "data = load_data('test')\n",
    "X = data['text']\n",
    "y_true = data['label']\n",
    "y_pred = ZeroShotClassifier().predict(X.to_list())\n",
    "\n",
    "print(accuracy_score(y_true, y_pred))\n",
    "print(f1_score(y_true, y_pred, average='macro'))"
   ]
  }
 ],
 "metadata": {
  "kernelspec": {
   "display_name": "picnic-topic-prediction",
   "language": "python",
   "name": "python3"
  },
  "language_info": {
   "codemirror_mode": {
    "name": "ipython",
    "version": 3
   },
   "file_extension": ".py",
   "mimetype": "text/x-python",
   "name": "python",
   "nbconvert_exporter": "python",
   "pygments_lexer": "ipython3",
   "version": "3.12.12"
  }
 },
 "nbformat": 4,
 "nbformat_minor": 5
}
